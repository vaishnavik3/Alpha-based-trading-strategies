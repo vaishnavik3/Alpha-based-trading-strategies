{
  "nbformat": 4,
  "nbformat_minor": 0,
  "metadata": {
    "colab": {
      "provenance": []
    },
    "kernelspec": {
      "name": "python3",
      "display_name": "Python 3"
    },
    "language_info": {
      "name": "python"
    }
  },
  "cells": [
    {
      "cell_type": "code",
      "source": [
        "import pandas as pd\n",
        "from itertools import product\n"
      ],
      "metadata": {
        "id": "Bupnsl2oryFB"
      },
      "execution_count": null,
      "outputs": []
    },
    {
      "cell_type": "code",
      "source": [
        "# Load the dataset\n",
        "file_path = 'asset_1.csv'\n",
        "data = pd.read_csv(file_path)\n"
      ],
      "metadata": {
        "id": "fZqVIxeQrz4i"
      },
      "execution_count": null,
      "outputs": []
    },
    {
      "cell_type": "code",
      "source": [
        "# Task 1: Static Thresholds\n",
        "def apply_static_thresholds(data, build_threshold=0.6, liquidate_threshold=0.2):\n",
        "    data['position'] = 0\n",
        "    current_position = 0\n",
        "\n",
        "    for i in range(1, len(data)):\n",
        "        if current_position == 0:\n",
        "            if data.loc[i, 'alpha'] >= build_threshold:\n",
        "                current_position = 1\n",
        "            elif data.loc[i, 'alpha'] <= -build_threshold:\n",
        "                current_position = -1\n",
        "        elif current_position == 1:\n",
        "            if data.loc[i, 'alpha'] <= liquidate_threshold:\n",
        "                current_position = 0\n",
        "        elif current_position == -1:\n",
        "            if data.loc[i, 'alpha'] >= -liquidate_threshold:\n",
        "                current_position = 0\n",
        "        data.loc[i, 'position'] = current_position\n",
        "\n",
        "    return data\n",
        "\n",
        "# Apply static thresholds\n",
        "data = apply_static_thresholds(data)\n"
      ],
      "metadata": {
        "id": "lVhdy-Rir6sK"
      },
      "execution_count": null,
      "outputs": []
    },
    {
      "cell_type": "code",
      "source": [
        "# Task 2: Backtesting Engine\n",
        "def backtest_strategy(data):\n",
        "    data['price_change'] = data['price'].diff()\n",
        "    data['trade'] = data['position'].diff()\n",
        "    data['pnl'] = -data['trade'] * data['price_change']\n",
        "    data['pnl'].fillna(0, inplace=True)\n",
        "    data['cumulative_pnl'] = data['pnl'].cumsum()\n",
        "    return data\n",
        "\n",
        "# Backtest the strategy\n",
        "data = backtest_strategy(data)\n"
      ],
      "metadata": {
        "id": "-qAj8lLssFnv"
      },
      "execution_count": null,
      "outputs": []
    },
    {
      "cell_type": "code",
      "source": [
        "# Task 3: Optimizing Thresholds\n",
        "def evaluate_strategy(build_threshold, liquidate_threshold, data):\n",
        "    data = apply_static_thresholds(data.copy(), build_threshold, liquidate_threshold)\n",
        "    data = backtest_strategy(data)\n",
        "    return data['cumulative_pnl'].iloc[-1]\n",
        "\n",
        "def optimize_thresholds(data, build_thresholds, liquidate_thresholds):\n",
        "    best_build_threshold = None\n",
        "    best_liquidate_threshold = None\n",
        "    best_pnl = float('-inf')\n",
        "\n",
        "    for build_thresh, liquidate_thresh in product(build_thresholds, liquidate_thresholds):\n",
        "        pnl = evaluate_strategy(build_thresh, liquidate_thresh, data)\n",
        "        if pnl > best_pnl:\n",
        "            best_pnl = pnl\n",
        "            best_build_threshold = build_thresh\n",
        "            best_liquidate_threshold = liquidate_thresh\n",
        "\n",
        "    return best_build_threshold, best_liquidate_threshold, best_pnl\n"
      ],
      "metadata": {
        "id": "39bUy-0CsJPI"
      },
      "execution_count": null,
      "outputs": []
    },
    {
      "cell_type": "code",
      "source": [
        "# Define the range for thresholds\n",
        "build_thresholds = [x * 0.1 for x in range(5, 11)]  # 0.5 to 1.0\n",
        "liquidate_thresholds = [x * 0.1 for x in range(1, 5)]  # 0.1 to 0.4\n"
      ],
      "metadata": {
        "id": "HpXC0t2dsMM6"
      },
      "execution_count": null,
      "outputs": []
    },
    {
      "cell_type": "code",
      "source": [
        "# Optimize thresholds\n",
        "best_build_threshold, best_liquidate_threshold, best_pnl = optimize_thresholds(data, build_thresholds, liquidate_thresholds)\n",
        "\n",
        "print(\"Best Build Threshold:\", best_build_threshold)\n",
        "print(\"Best Liquidate Threshold:\", best_liquidate_threshold)\n",
        "print(\"Best P&L:\", best_pnl)\n"
      ],
      "metadata": {
        "colab": {
          "base_uri": "https://localhost:8080/"
        },
        "id": "deE76JzVljFU",
        "outputId": "cbbdaa26-990f-4bab-c905-cc11f4f484c8"
      },
      "execution_count": 4,
      "outputs": [
        {
          "output_type": "stream",
          "name": "stdout",
          "text": [
            "Best Build Threshold: 0.7000000000000001\n",
            "Best Liquidate Threshold: 0.2\n",
            "Best P&L: 16943.791753721027\n"
          ]
        }
      ]
    }
  ]
}